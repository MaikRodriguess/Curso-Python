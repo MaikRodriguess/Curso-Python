{
 "cells": [
  {
   "cell_type": "markdown",
   "id": "2b04bbea",
   "metadata": {
    "id": "2b04bbea"
   },
   "source": [
    "# Listas\n",
    "\n",
    "<span style=\"color: red;\"><b>Todos os exercícios são feitos partindo-se do pressuposto de que todas as entradas são dadas de forma correta. Casos limite não mencionados no enunciado não são abordados porque não fazem parte do exercício.</b></span>"
   ]
  },
  {
   "cell_type": "markdown",
   "id": "dcb81b29",
   "metadata": {
    "id": "dcb81b29"
   },
   "source": [
    "#### 1. Faça um Programa que leia as vendas dos vendedores, mostre a venda de cada vendedor com o seu nome e a média de vendas. "
   ]
  },
  {
   "cell_type": "code",
   "execution_count": 1,
   "id": "09c0d2b3",
   "metadata": {
    "id": "09c0d2b3"
   },
   "outputs": [
    {
     "name": "stdout",
     "output_type": "stream",
     "text": [
      "Vendedor: Fulano Vendeu: 1000\n",
      "Vendedor: Beltrano Vendeu: 1500\n",
      "Vendedor: Ciclano Vendeu: 1200\n",
      "Vendedor: Lira Vendeu: 1300\n",
      "Média:  1250.0\n"
     ]
    }
   ],
   "source": [
    "vendas = [1000, 1500, 1200, 1300]\n",
    "vendedores = [\"Fulano\", \"Beltrano\", \"Ciclano\", \"Lira\"]\n",
    "\n",
    "for i in range (len(vendas)):\n",
    "    \n",
    "    print('Vendedor: {} Vendeu: {}'.format(vendedores[i], vendas[i]))\n",
    "\n",
    "media = sum(vendas)/len(vendedores)\n",
    "print('Média: ',media)"
   ]
  },
  {
   "cell_type": "markdown",
   "id": "cbda91b3",
   "metadata": {
    "id": "cbda91b3"
   },
   "source": [
    "#### 2. Faça um Programa que crie uma lista com as médias de cada aluno, imprima as médias de cada aluno e a quantidade de alunos com média maior que 7."
   ]
  },
  {
   "cell_type": "code",
   "execution_count": 2,
   "id": "c93dd233",
   "metadata": {
    "id": "c93dd233"
   },
   "outputs": [
    {
     "name": "stdout",
     "output_type": "stream",
     "text": [
      "José - Média: 8.75\n",
      "Joana - Média: 6.5\n",
      "Maria - Média: 10.0\n",
      "Carla - Média: 6.75\n",
      "Mauricio - Média: 6.25\n",
      "Andre - Média: 7.25\n",
      "Tiago - Média: 7.5\n",
      "Enzo - Média: 6.5\n",
      "Amanda - Média: 7.5\n",
      "Alessandra - Média: 4.25\n",
      "\n",
      "\n",
      "5 alunos tiveram notas maiores que 7\n"
     ]
    }
   ],
   "source": [
    "alunos = [\"José\", \"Joana\", \"Maria\", \"Carla\", \"Mauricio\", \"Andre\", \"Tiago\", \"Enzo\", \"Amanda\", \"Alessandra\"]\n",
    "notas = [\n",
    "    [10, 9, 8, 8],\n",
    "    [9, 7, 6, 4],\n",
    "    [10, 10, 10, 10],\n",
    "    [5, 3, 10, 9],\n",
    "    [7, 6, 6, 6],\n",
    "    [7, 7, 8, 7],\n",
    "    [7, 7, 7, 9],\n",
    "    [8, 5, 6, 7],\n",
    "    [10, 9, 7, 4],\n",
    "    [10, 1, 3, 3],\n",
    "]\n",
    "# Media de cada aluno\n",
    "media_maior = 0 \n",
    "for i, nota in enumerate(notas):\n",
    "   \n",
    "    media_aluno = sum(nota)/len(nota)\n",
    "    print('{} - Média: {}'.format(alunos[i], media_aluno))\n",
    "    if media_aluno >= 7:\n",
    "        media_maior += 1\n",
    "\n",
    "print('\\n')\n",
    "\n",
    "# Quantidade de alunos e médias maiores que 7\n",
    "print('{} alunos tiveram notas maiores que 7'.format(media_maior))\n",
    "\n"
   ]
  },
  {
   "cell_type": "markdown",
   "id": "c3068a53",
   "metadata": {
    "id": "c3068a53"
   },
   "source": [
    "#### 3. Foram anotadas as idades e salários de 30 funcionários. Faça um programa que determine quantos funcionários com mais de 25 anos possuem salário inferior à média de todos os salários."
   ]
  },
  {
   "cell_type": "code",
   "execution_count": 3,
   "id": "0308566d",
   "metadata": {
    "id": "0308566d",
    "scrolled": true
   },
   "outputs": [
    {
     "name": "stdout",
     "output_type": "stream",
     "text": [
      "12 funcionarios com mais de 25 anos possuem salarios abaixo da média salarial de R$:3319.8\n"
     ]
    }
   ],
   "source": [
    "idades = [35,32,50,33,48,50,33,48,22,49,35,38,20,47,49,48,34,21,48,44,48,30,25,42,42,23,25,23,38,35]\n",
    "salarios = [3739,2219,3554,3978,4014,3270,4792,3879,2981,2384,4826,2460,3680,4318,1872,1770,4640,3929,3295,1729,3965,4267,4007,1916,2987,2943,3852,4543,2055,1730]\n",
    "\n",
    "# Media salarial de funcionários\n",
    "media_salarial = sum(salarios)/len(salarios)\n",
    "\n",
    "contador_baixo_salario = 0\n",
    "# Verifica se funcionario tem mais de 25 anos e salário menor que a media salarial\n",
    "for i in range(len(idades)):\n",
    "    if idades[i] > 25 and salarios[i] < media_salarial:\n",
    "            contador_baixo_salario += 1\n",
    "print(f'{contador_baixo_salario} funcionarios com mais de 25 anos possuem salarios abaixo da média salarial de R$:{media_salarial}')\n",
    "            "
   ]
  },
  {
   "cell_type": "markdown",
   "id": "1611081b",
   "metadata": {
    "id": "1611081b"
   },
   "source": [
    "#### 4.Em quais meses a média de temperatura foi maior do que a média nacional?"
   ]
  },
  {
   "cell_type": "code",
   "execution_count": 4,
   "id": "62f72e2b",
   "metadata": {
    "id": "62f72e2b"
   },
   "outputs": [
    {
     "name": "stdout",
     "output_type": "stream",
     "text": [
      "Média de temperatura nacional: 25 graus \n",
      "\n",
      "Janeiro a temperatura foi 30 graus\n",
      "Fevereiro a temperatura foi 29 graus\n",
      "Março a temperatura foi 28 graus\n",
      "Abril a temperatura foi 28 graus\n",
      "Junho a temperatura foi 26 graus\n",
      "Novembro a temperatura foi 27 graus\n",
      "Dezembro a temperatura foi 32 graus\n"
     ]
    }
   ],
   "source": [
    "meses = [\n",
    "    'Janeiro',\n",
    "    'Fevereiro',\n",
    "    'Março',\n",
    "    'Abril',\n",
    "    'Maio',\n",
    "    'Junho',\n",
    "    'Julho',\n",
    "    'Agosto',\n",
    "    'Setembro',\n",
    "    'Outubro',\n",
    "    'Novembro',\n",
    "    'Dezembro'\n",
    "]\n",
    "\n",
    "temperaturas = [30, 29, 28, 28, 25, 26, 20, 21, 19, 25, 27, 32]\n",
    "\n",
    "# Média nacional de temperatura\n",
    "temperatura_media_nacional = int(sum(temperaturas)/len(temperaturas))\n",
    "\n",
    "print(f'Média de temperatura nacional: {temperatura_media_nacional} graus \\n')\n",
    "\n",
    "for i, temp in enumerate(temperaturas):\n",
    "    if temp > temperatura_media_nacional:\n",
    "        print(f'{meses[i]} a temperatura foi {temp} graus')"
   ]
  },
  {
   "cell_type": "markdown",
   "id": "8946af31",
   "metadata": {
    "id": "8946af31"
   },
   "source": [
    "#### 5. As Organizações Tabajara resolveram dar um abono aos seus colaboradores em reconhecimento ao bom resultado alcançado durante o ano que passou. Para isto contratou você para desenvolver a aplicação que servirá como uma projeção de quanto será gasto com o pagamento deste abono.\n",
    "<pre>Após reuniões envolvendo a diretoria executiva, a diretoria financeira e os representantes do sindicato laboral, chegou-se a seguinte forma de cálculo:\n",
    ". Cada funcionário receberá o equivalente a 20% do seu salário bruto de dezembro;\n",
    ". O piso do abono será de 100 reais, isto é, aqueles funcionários cujo salário for muito baixo, recebem este valor mínimo; \n",
    "\n",
    "Neste momento, não se deve ter nenhuma preocupação com colaboradores com tempo menor de casa, descontos, impostos ou outras particularidades. O programa deverá calcular o valor do abono concedido a cada colaborador, de acordo com a regra definida acima. Ao final, o programa deverá apresentar:</pre>\n",
    "<pre>\n",
    "O salário de cada funcionário, juntamente com o valor do abono;\n",
    "O número total de funcionário processados;\n",
    "O valor total a ser gasto com o pagamento do abono;\n",
    "O número de funcionário que receberá o valor mínimo de 100 reais;\n",
    "O maior valor pago como abono; A tela abaixo é um exemplo de execução do programa, apenas para fins ilustrativos.\n",
    "<pre>\n",
    "Projeção de Gastos com Abono\n",
    "============================ \n",
    " \n",
    "Salário: 1000\n",
    "Salário: 300\n",
    "Salário: 500\n",
    "Salário: 100\n",
    "Salário: 4500\n",
    "Salário: 0\n",
    " \n",
    "Salário    - Abono     \n",
    "R$ 1000.00 - R$  200.00\n",
    "R$  300.00 - R$  100.00\n",
    "R$  500.00 - R$  100.00\n",
    "R$  100.00 - R$  100.00\n",
    "R$ 4500.00 - R$  900.00\n",
    " \n",
    "Foram processados 5 colaboradores\n",
    "Total gasto com abonos: R$ 1400.00\n",
    "Valor mínimo pago a 3 colaboradores\n",
    "Maior valor de abono pago: R$ 900.00"
   ]
  },
  {
   "cell_type": "code",
   "execution_count": 5,
   "id": "fadbcfb2",
   "metadata": {
    "id": "fadbcfb2"
   },
   "outputs": [
    {
     "name": "stdout",
     "output_type": "stream",
     "text": [
      "Salario: 1000\n",
      "Salario: 300\n",
      "Salario: 500\n",
      "Salario: 200\n",
      "Salario: 1500\n",
      "Salario: 3000\n",
      "Salario: 3400\n",
      "Salario: 5000\n",
      "Salario: 7000\n",
      "Salario: 2000\n",
      "Salario: 600\n",
      "Salario: 800\n",
      "Salario: 250\n",
      "Salario: 1500\n",
      "Salario: 20000\n",
      "\n",
      "\n",
      "Salário    - Abono\n",
      "[747.8000000000001]\n",
      "[747.8000000000001, 443.8]\n",
      "[747.8000000000001, 443.8, 710.8000000000001]\n",
      "[747.8000000000001, 443.8, 710.8000000000001, 795.6]\n",
      "[747.8000000000001, 443.8, 710.8000000000001, 795.6, 802.8000000000001]\n",
      "[747.8000000000001, 443.8, 710.8000000000001, 795.6, 802.8000000000001, 654.0]\n",
      "[747.8000000000001, 443.8, 710.8000000000001, 795.6, 802.8000000000001, 654.0, 958.4000000000001]\n",
      "[747.8000000000001, 443.8, 710.8000000000001, 795.6, 802.8000000000001, 654.0, 958.4000000000001, 775.8000000000001]\n",
      "[747.8000000000001, 443.8, 710.8000000000001, 795.6, 802.8000000000001, 654.0, 958.4000000000001, 775.8000000000001, 596.2]\n",
      "[747.8000000000001, 443.8, 710.8000000000001, 795.6, 802.8000000000001, 654.0, 958.4000000000001, 775.8000000000001, 596.2, 476.8]\n",
      "[747.8000000000001, 443.8, 710.8000000000001, 795.6, 802.8000000000001, 654.0, 958.4000000000001, 775.8000000000001, 596.2, 476.8, 965.2]\n",
      "[747.8000000000001, 443.8, 710.8000000000001, 795.6, 802.8000000000001, 654.0, 958.4000000000001, 775.8000000000001, 596.2, 476.8, 965.2, 492.0]\n",
      "[747.8000000000001, 443.8, 710.8000000000001, 795.6, 802.8000000000001, 654.0, 958.4000000000001, 775.8000000000001, 596.2, 476.8, 965.2, 492.0, 736.0]\n",
      "[747.8000000000001, 443.8, 710.8000000000001, 795.6, 802.8000000000001, 654.0, 958.4000000000001, 775.8000000000001, 596.2, 476.8, 965.2, 492.0, 736.0, 863.6]\n",
      "[747.8000000000001, 443.8, 710.8000000000001, 795.6, 802.8000000000001, 654.0, 958.4000000000001, 775.8000000000001, 596.2, 476.8, 965.2, 492.0, 736.0, 863.6, 374.40000000000003]\n",
      "[747.8000000000001, 443.8, 710.8000000000001, 795.6, 802.8000000000001, 654.0, 958.4000000000001, 775.8000000000001, 596.2, 476.8, 965.2, 492.0, 736.0, 863.6, 374.40000000000003, 354.0]\n",
      "[747.8000000000001, 443.8, 710.8000000000001, 795.6, 802.8000000000001, 654.0, 958.4000000000001, 775.8000000000001, 596.2, 476.8, 965.2, 492.0, 736.0, 863.6, 374.40000000000003, 354.0, 928.0]\n",
      "[747.8000000000001, 443.8, 710.8000000000001, 795.6, 802.8000000000001, 654.0, 958.4000000000001, 775.8000000000001, 596.2, 476.8, 965.2, 492.0, 736.0, 863.6, 374.40000000000003, 354.0, 928.0, 785.8000000000001]\n",
      "[747.8000000000001, 443.8, 710.8000000000001, 795.6, 802.8000000000001, 654.0, 958.4000000000001, 775.8000000000001, 596.2, 476.8, 965.2, 492.0, 736.0, 863.6, 374.40000000000003, 354.0, 928.0, 785.8000000000001, 659.0]\n",
      "[747.8000000000001, 443.8, 710.8000000000001, 795.6, 802.8000000000001, 654.0, 958.4000000000001, 775.8000000000001, 596.2, 476.8, 965.2, 492.0, 736.0, 863.6, 374.40000000000003, 354.0, 928.0, 785.8000000000001, 659.0, 345.8]\n",
      "[747.8000000000001, 443.8, 710.8000000000001, 795.6, 802.8000000000001, 654.0, 958.4000000000001, 775.8000000000001, 596.2, 476.8, 965.2, 492.0, 736.0, 863.6, 374.40000000000003, 354.0, 928.0, 785.8000000000001, 659.0, 345.8, 793.0]\n",
      "[747.8000000000001, 443.8, 710.8000000000001, 795.6, 802.8000000000001, 654.0, 958.4000000000001, 775.8000000000001, 596.2, 476.8, 965.2, 492.0, 736.0, 863.6, 374.40000000000003, 354.0, 928.0, 785.8000000000001, 659.0, 345.8, 793.0, 853.4000000000001]\n",
      "[747.8000000000001, 443.8, 710.8000000000001, 795.6, 802.8000000000001, 654.0, 958.4000000000001, 775.8000000000001, 596.2, 476.8, 965.2, 492.0, 736.0, 863.6, 374.40000000000003, 354.0, 928.0, 785.8000000000001, 659.0, 345.8, 793.0, 853.4000000000001, 801.4000000000001]\n",
      "[747.8000000000001, 443.8, 710.8000000000001, 795.6, 802.8000000000001, 654.0, 958.4000000000001, 775.8000000000001, 596.2, 476.8, 965.2, 492.0, 736.0, 863.6, 374.40000000000003, 354.0, 928.0, 785.8000000000001, 659.0, 345.8, 793.0, 853.4000000000001, 801.4000000000001, 383.20000000000005]\n",
      "[747.8000000000001, 443.8, 710.8000000000001, 795.6, 802.8000000000001, 654.0, 958.4000000000001, 775.8000000000001, 596.2, 476.8, 965.2, 492.0, 736.0, 863.6, 374.40000000000003, 354.0, 928.0, 785.8000000000001, 659.0, 345.8, 793.0, 853.4000000000001, 801.4000000000001, 383.20000000000005, 597.4]\n",
      "[747.8000000000001, 443.8, 710.8000000000001, 795.6, 802.8000000000001, 654.0, 958.4000000000001, 775.8000000000001, 596.2, 476.8, 965.2, 492.0, 736.0, 863.6, 374.40000000000003, 354.0, 928.0, 785.8000000000001, 659.0, 345.8, 793.0, 853.4000000000001, 801.4000000000001, 383.20000000000005, 597.4, 588.6]\n",
      "[747.8000000000001, 443.8, 710.8000000000001, 795.6, 802.8000000000001, 654.0, 958.4000000000001, 775.8000000000001, 596.2, 476.8, 965.2, 492.0, 736.0, 863.6, 374.40000000000003, 354.0, 928.0, 785.8000000000001, 659.0, 345.8, 793.0, 853.4000000000001, 801.4000000000001, 383.20000000000005, 597.4, 588.6, 770.4000000000001]\n",
      "[747.8000000000001, 443.8, 710.8000000000001, 795.6, 802.8000000000001, 654.0, 958.4000000000001, 775.8000000000001, 596.2, 476.8, 965.2, 492.0, 736.0, 863.6, 374.40000000000003, 354.0, 928.0, 785.8000000000001, 659.0, 345.8, 793.0, 853.4000000000001, 801.4000000000001, 383.20000000000005, 597.4, 588.6, 770.4000000000001, 908.6]\n",
      "[747.8000000000001, 443.8, 710.8000000000001, 795.6, 802.8000000000001, 654.0, 958.4000000000001, 775.8000000000001, 596.2, 476.8, 965.2, 492.0, 736.0, 863.6, 374.40000000000003, 354.0, 928.0, 785.8000000000001, 659.0, 345.8, 793.0, 853.4000000000001, 801.4000000000001, 383.20000000000005, 597.4, 588.6, 770.4000000000001, 908.6, 411.0]\n",
      "[747.8000000000001, 443.8, 710.8000000000001, 795.6, 802.8000000000001, 654.0, 958.4000000000001, 775.8000000000001, 596.2, 476.8, 965.2, 492.0, 736.0, 863.6, 374.40000000000003, 354.0, 928.0, 785.8000000000001, 659.0, 345.8, 793.0, 853.4000000000001, 801.4000000000001, 383.20000000000005, 597.4, 588.6, 770.4000000000001, 908.6, 411.0, 346.0]\n"
     ]
    }
   ],
   "source": [
    "lista_salarios = [1000, 300, 500, 200, 1500, 3000, 3400, 5000, 7000, 2000, 600, 800, 250, 1500, 20000]\n",
    "abonos = []\n",
    "#Cada funcionário receberá o equivalente a 20% do seu salário bruto de dezembro\n",
    "# Piso do abono 100 \n",
    "\n",
    "# Salarios de funcionários\n",
    "for salario in lista_salarios:\n",
    "    \n",
    "    print(f'Salario: {salario}')\n",
    "\n",
    "print('\\n') # Pula Linha\n",
    "\n",
    "print('Salário    - Abono')\n",
    "# Salario e abono \n",
    "for salario in salarios:\n",
    "       \n",
    "        abonos.append(salario * 0.20)\n",
    "        print(abonos)\n"
   ]
  },
  {
   "cell_type": "markdown",
   "id": "382b0981",
   "metadata": {
    "id": "382b0981"
   },
   "source": [
    "#### 6. Faça um programa que carregue uma lista com os modelos de cinco carros (exemplo de modelos: FUSCA, GOL, VECTRA etc). Carregue uma outra lista com o consumo desses carros, isto é, quantos quilômetros cada um desses carros faz com um litro de combustível. Calcule e mostre:\n",
    "<pre>\n",
    "a. O modelo do carro mais econômico;\n",
    "b. Quantos litros de combustível cada um dos carros cadastrados consome para percorrer uma distância de 1000 quilômetros e quanto isto custará, considerando um que a gasolina custe R$ 2,25 o litro. Abaixo segue uma tela de exemplo. O disposição das informações deve ser o mais próxima possível ao exemplo. Os dados são fictícios e podem mudar a cada execução do programa.</pre>\n",
    "```\n",
    "Comparativo de Consumo de Combustível\n",
    "\n",
    "Veículo 1\n",
    "Nome: fusca\n",
    "Km por litro: 7\n",
    "Veículo 2\n",
    "Nome: gol\n",
    "Km por litro: 10\n",
    "Veículo 3\n",
    "Nome: uno\n",
    "Km por litro: 12.5\n",
    "Veículo 4\n",
    "Nome: Vectra\n",
    "Km por litro: 9\n",
    "Veículo 5\n",
    "Nome: Peugeout\n",
    "Km por litro: 14.5\n",
    "\n",
    "Relatório Final\n",
    " 1 - fusca           -    7.0 -  142.9 litros - R$ 321.43\n",
    " 2 - gol             -   10.0 -  100.0 litros - R$ 225.00\n",
    " 3 - uno             -   12.5 -   80.0 litros - R$ 180.00\n",
    " 4 - vectra          -    9.0 -  111.1 litros - R$ 250.00\n",
    " 5 - peugeout        -   14.5 -   69.0 litros - R$ 155.17\n",
    "O menor consumo é do peugeout.\n",
    "```"
   ]
  },
  {
   "cell_type": "code",
   "execution_count": 43,
   "id": "6b6c8b06",
   "metadata": {
    "id": "6b6c8b06"
   },
   "outputs": [
    {
     "name": "stdout",
     "output_type": "stream",
     "text": [
      "Comparativo de Consumo de Combustível \n",
      "\n",
      "Relatório Final\n",
      "1 - fusca - 7 - 142.9 - 321.43\n",
      "2 - gol - 10 - 100.0 - 225.00\n",
      "3 - uno - 12.5 - 80.0 - 180.00\n",
      "4 - vectra - 9 - 111.1 - 250.00\n",
      "5 - peugeot - 14.5 - 69.0 - 155.17\n",
      "O carro com a maior autonomia é peugeot\n"
     ]
    }
   ],
   "source": [
    "print('Comparativo de Consumo de Combustível \\n')\n",
    "veiculos = ['fusca','gol', 'uno', 'vectra', 'peugeot']\n",
    "autonomias = [7, 10, 12.5, 9, 14.5]\n",
    "conta_veiculo = 0\n",
    "menor_consumo = []\n",
    "\n",
    "print('Relatório Final')\n",
    "for i, autonomia in enumerate(autonomias):\n",
    "    \n",
    "    consumo_litro = 1000 / autonomia\n",
    "    consumo_dinheiro = (consumo_litro * 2.25)\n",
    "    print('{} - {} - {} - {:.1f} - {:.2f}'.format(i+1, veiculos[i], autonomia, consumo_litro, consumo_dinheiro))\n",
    "    \n",
    "# Carro maior autonomia\n",
    "maior = max(autonomias)\n",
    "i = autonomias.index(maior)\n",
    "print('O carro com a maior autonomia é {}'.format(veiculos[i]))"
   ]
  },
  {
   "cell_type": "markdown",
   "id": "1d0260a3",
   "metadata": {
    "id": "1d0260a3"
   },
   "source": [
    "#### 7. Uma empresa paga seus vendedores com base em comissões. O vendedor recebe \\\\$200 por semana mais 9 por cento de suas vendas brutas daquela semana. Por exemplo, um vendedor que teve vendas brutas de \\\\$3000 em uma semana recebe \\\\$200 mais 9 por cento de \\\\$3000, ou seja, um total de \\\\$470. Escreva um programa (usando um array de contadores) que determine quantos vendedores receberam salários nos seguintes intervalos de valores:\n",
    "<pre>\n",
    "$200 - $299\n",
    "$300 - $399\n",
    "$400 - $499\n",
    "$500 - $599\n",
    "$600 - $699\n",
    "$700 - $799\n",
    "$800 - $899\n",
    "$900 - $999\n",
    "$1000 em diante\n",
    "</pre>\n",
    "\n",
    "Existem várias formas de fazer. Faça primeiro da forma que parecer mais intuitiva para você.\n",
    "\n",
    "Em seguida, caso queira um desafio:\n",
    "Desafio: Crie uma forma para chegar na posição da lista a partir do salário, sem fazer vários ifs aninhados."
   ]
  },
  {
   "cell_type": "code",
   "execution_count": 67,
   "id": "fc6eaae4",
   "metadata": {
    "id": "fc6eaae4"
   },
   "outputs": [
    {
     "ename": "IndexError",
     "evalue": "list index out of range",
     "output_type": "error",
     "traceback": [
      "\u001b[0;31m---------------------------------------------------------------------------\u001b[0m",
      "\u001b[0;31mIndexError\u001b[0m                                Traceback (most recent call last)",
      "Input \u001b[0;32mIn [67]\u001b[0m, in \u001b[0;36m<cell line: 3>\u001b[0;34m()\u001b[0m\n\u001b[1;32m      1\u001b[0m vendas \u001b[38;5;241m=\u001b[39m [\u001b[38;5;241m1000\u001b[39m, \u001b[38;5;241m2000\u001b[39m, \u001b[38;5;241m3000\u001b[39m, \u001b[38;5;241m4000\u001b[39m, \u001b[38;5;241m5000\u001b[39m, \u001b[38;5;241m6000\u001b[39m, \u001b[38;5;241m5500\u001b[39m, \u001b[38;5;241m4500\u001b[39m, \u001b[38;5;241m3600\u001b[39m]\n\u001b[1;32m      2\u001b[0m contador \u001b[38;5;241m=\u001b[39m []\n\u001b[0;32m----> 3\u001b[0m conta \u001b[38;5;241m=\u001b[39m \u001b[43mcontador\u001b[49m\u001b[43m[\u001b[49m\u001b[43mi\u001b[49m\u001b[43m]\u001b[49m \u001b[38;5;241m+\u001b[39m \u001b[38;5;241m1\u001b[39m \n\u001b[1;32m      6\u001b[0m \u001b[38;5;28;01mfor\u001b[39;00m i, venda \u001b[38;5;129;01min\u001b[39;00m \u001b[38;5;28menumerate\u001b[39m(vendas): \n\u001b[1;32m      7\u001b[0m     contador \u001b[38;5;241m=\u001b[39m contador\u001b[38;5;241m.\u001b[39mappend()\n",
      "\u001b[0;31mIndexError\u001b[0m: list index out of range"
     ]
    }
   ],
   "source": [
    "vendas = [1000, 2000, 3000, 4000, 5000, 6000, 5500, 4500, 3600]\n",
    "contador = []\n",
    "conta = contador[i] + 1 \n",
    "\n",
    "\n",
    "for i, venda in enumerate(vendas): \n",
    "    contador = contador.append()\n",
    "    pagamento = 200 + (venda * 0.09)\n",
    "   \n",
    "    \n",
    "    if pagamento >= 200 and pagamento <= 299:\n",
    "        print(pagamento)\n",
    "        contador.append(c\n",
    "                        onta)\n",
    "    print(f'{pagamento} = {contador}')\n",
    "        \n"
   ]
  },
  {
   "cell_type": "code",
   "execution_count": null,
   "id": "6318e4ab",
   "metadata": {},
   "outputs": [],
   "source": []
  }
 ],
 "metadata": {
  "colab": {
   "provenance": []
  },
  "kernelspec": {
   "display_name": "Python 3 (ipykernel)",
   "language": "python",
   "name": "python3"
  },
  "language_info": {
   "codemirror_mode": {
    "name": "ipython",
    "version": 3
   },
   "file_extension": ".py",
   "mimetype": "text/x-python",
   "name": "python",
   "nbconvert_exporter": "python",
   "pygments_lexer": "ipython3",
   "version": "3.9.12"
  }
 },
 "nbformat": 4,
 "nbformat_minor": 5
}
