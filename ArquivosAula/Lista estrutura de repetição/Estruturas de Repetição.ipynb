{
 "cells": [
  {
   "cell_type": "markdown",
   "id": "ac60394f",
   "metadata": {
    "id": "ac60394f"
   },
   "source": [
    "# Estruturas de repetição\n",
    "\n",
    "<span style=\"color: red;\"><b>Todos os exercícios são feitos partindo-se do pressuposto de que todas as entradas são dadas de forma correta. Casos limite não mencionados no enunciado não são abordados porque não fazem parte do exercício.</b></span>"
   ]
  },
  {
   "cell_type": "markdown",
   "id": "017affd0",
   "metadata": {
    "id": "017affd0"
   },
   "source": [
    "#### 1. Faça um programa que peça uma nota, entre zero e dez. Mostre uma mensagem caso o valor seja inválido e continue pedindo até que o usuário informe um valor válido."
   ]
  },
  {
   "cell_type": "code",
   "execution_count": null,
   "id": "5f12870d",
   "metadata": {
    "id": "5f12870d"
   },
   "outputs": [],
   "source": [
    "while True:\n",
    "    nota = float(input('Notas entre 0 e 10  ?'))\n",
    "    if nota >= 0 and nota <= 10:\n",
    "        break\n",
    "    else:\n",
    "        print('Nota invalida')\n",
    "        continue\n",
    "        "
   ]
  },
  {
   "cell_type": "markdown",
   "id": "dd0c6d56",
   "metadata": {
    "id": "dd0c6d56"
   },
   "source": [
    "#### 2. Faça um programa que leia um nome de usuário e a sua senha e não aceite a senha igual ao nome do usuário, mostrando uma mensagem de erro e voltando a pedir as informações."
   ]
  },
  {
   "cell_type": "code",
   "execution_count": null,
   "id": "f6579866",
   "metadata": {
    "id": "f6579866"
   },
   "outputs": [],
   "source": [
    "nome = []\n",
    "senha = []\n",
    "while nome == senha: # Repete o laço se o nome e a senha forem iguais\n",
    "    nome = input('Qual é nome?')\n",
    "    senha = input('Qual é a senha?')\n",
    "    if nome == senha:\n",
    "        print('Erro! a senha não pode ser igual ao nome. Tente novamente.')\n",
    "        continue\n",
    "    else:\n",
    "        break"
   ]
  },
  {
   "cell_type": "markdown",
   "id": "ed113a82",
   "metadata": {
    "id": "ed113a82"
   },
   "source": [
    "#### 3. Faça um programa que leia e valide as seguintes informações (e para cada uma delas, continue pedindo a informação até o usuário inserir corretamente):\n",
    "##### Nome: maior que 3 caracteres;\n",
    "##### Idade: entre 0 e 150;\n",
    "##### Salário: maior que zero;\n",
    "##### Sexo: 'f' ou 'm';\n",
    "##### Estado Civil: 's', 'c', 'v', 'd';"
   ]
  },
  {
   "cell_type": "code",
   "execution_count": null,
   "id": "3284f187",
   "metadata": {
    "id": "3284f187"
   },
   "outputs": [],
   "source": [
    "estados_civis = ['s','c','v','d']\n",
    "nome = input('Nome: ')\n",
    "idade = int(input('Idade: '))\n",
    "salario = float(input('Salario: '))\n",
    "sexo = input('Sexo: ')\n",
    "estado_civil = input('Estado Civil: \\n S = Solteito \\n C = Casado \\n V = Viuvo(a) \\n D = Divorciado(a) \\n')\n",
    "\n",
    "while True:\n",
    "\n",
    "    if len(nome) <= 3:\n",
    "        print('Nome precisar ter mais que 3 caracteres')\n",
    "        nome = input('Nome: ')\n",
    "     \n",
    "        continue\n",
    "\n",
    "\n",
    "    elif not idade >= 0 and idade <= 150:\n",
    "        print('Idade invalida.. Tente novamente')\n",
    "        idade = int(input('Idade: '))\n",
    "        continue\n",
    "    \n",
    "\n",
    "    elif salario <= 0:\n",
    "        print('Salário invalido.. Tente novamente')\n",
    "        salario = float(input('Salario: '))\n",
    "        continue\n",
    "    \n",
    "\n",
    "    elif sexo != 'f' and sexo != 'm':\n",
    "        print('Sexo invalido.. Tente novamente')\n",
    "        sexo = input('Sexo: ')\n",
    "        continue\n",
    "    \n",
    "    elif estado_civil not in estados_civis: \n",
    "        print('Estado Civil invalido.. Tente novamente.')\n",
    "        estado_civil = input('Estado Civil: S = Solteito, C = Casado, V = Viuvo(a), D = Divorciado(a) \\n')\n",
    "        continue\n",
    "    \n",
    "    else:\n",
    "        break\n",
    "        \n",
    "print(f'Nome:{nome} \\n Idade:{idade}\\n Salario: {salario} \\n Sexo: {sexo} \\n Estado Civil:{estado_civil}')\n",
    "print('\\n')"
   ]
  },
  {
   "cell_type": "markdown",
   "id": "2f25dceb",
   "metadata": {
    "id": "2f25dceb"
   },
   "source": [
    "#### 4. Supondo que a população de um país A seja da ordem de 80000 habitantes com uma taxa anual de crescimento de 3% e que a população de B seja 200000 habitantes com uma taxa de crescimento de 1.5%. Faça um programa que calcule e escreva o número de anos necessários para que a população do país A ultrapasse ou iguale a população do país B, mantidas as taxas de crescimento."
   ]
  },
  {
   "cell_type": "code",
   "execution_count": null,
   "id": "7ad0f5e9",
   "metadata": {
    "id": "7ad0f5e9"
   },
   "outputs": [],
   "source": [
    "populacao_A = 80000\n",
    "populacao_B = 200000\n",
    "\n",
    "tempo = 0\n",
    "\n",
    "while populacao_A < populacao_B:\n",
    "    populacao_A *= 1.03\n",
    "    populacao_B *= 1.015\n",
    "    tempo += 1\n",
    "\n",
    "print('São necessários', tempo, 'anos para a população A igualar ou superar a população B')"
   ]
  },
  {
   "cell_type": "markdown",
   "id": "e9626858",
   "metadata": {
    "id": "e9626858"
   },
   "source": [
    "#### 5. Altere o programa anterior permitindo ao usuário informar as populações e as taxas de crescimento iniciais. Valide a entrada e permita repetir a operação."
   ]
  },
  {
   "cell_type": "code",
   "execution_count": null,
   "id": "c7e250a4",
   "metadata": {
    "id": "c7e250a4"
   },
   "outputs": [],
   "source": [
    "repete = 's'\n",
    "\n",
    "while repete == 's':\n",
    "    populacao_A = int(input('População A '))\n",
    "    populacao_B = int(input('População B '))\n",
    "    taxaA = (float(input('Taxa de crescimento A ')) / 100) + 1 \n",
    "    taxaB = (float(input('Taxa de crescimento B ')) / 100) + 1 \n",
    "    tempo = 0\n",
    "\n",
    "    while populacao_A < populacao_B:\n",
    "        populacao_A *= taxaA\n",
    "        populacao_B *= taxaB\n",
    "        tempo += 1\n",
    "    \n",
    "    print('São necessários', tempo, 'anos para a população A igualar ou superar a população B')\n",
    "    repete = input('Deseja repetir a operação?  \"s\" para sim ou \"n\" para não')"
   ]
  },
  {
   "cell_type": "markdown",
   "id": "b3d268b5",
   "metadata": {
    "id": "b3d268b5"
   },
   "source": [
    "#### 6. Faça um programa que peça para o usuário inserir o faturamento dos últimos 5 meses (individualmente) e informe o maior faturamento"
   ]
  },
  {
   "cell_type": "code",
   "execution_count": null,
   "id": "8078e7a5",
   "metadata": {
    "id": "8078e7a5"
   },
   "outputs": [],
   "source": [
    "print('Insira o faturamento dos ultimos 5 meses')\n",
    "contador = 0\n",
    "faturamentos = [] \n",
    "\n",
    "while contador < 5:\n",
    "    faturamento = float(input(\"Qual é o faturamento?\"))\n",
    "    faturamentos.append(faturamento)\n",
    "    contador += 1\n",
    "    \n",
    "print(f'O maior faturamento foi de: {max(faturamentos)}')"
   ]
  },
  {
   "cell_type": "markdown",
   "id": "6407824c",
   "metadata": {
    "id": "6407824c"
   },
   "source": [
    "#### 7. Faça um programa que peça para o usuário inserir o faturamento dos últimos 5 meses (individualmente) e informe o faturamento total (soma) e o faturamento médio por mês (média)."
   ]
  },
  {
   "cell_type": "code",
   "execution_count": null,
   "id": "a02320d1",
   "metadata": {
    "id": "a02320d1"
   },
   "outputs": [],
   "source": [
    "faturamentos = [] \n",
    "\n",
    "for i in range(5):\n",
    "    faturamento = float(input('Insira o faturamento do mês: '))\n",
    "    faturamentos.append(faturamento)\n",
    "    faturamento_total = sum(faturamentos)\n",
    "    faturamento_medio = faturamento_total / len(faturamentos)\n",
    "print(f'O faturamento total foi: {faturamento_total}\\nO faturamento médio mensal foi: {faturamento_medio}')"
   ]
  },
  {
   "cell_type": "markdown",
   "id": "703f3c4d",
   "metadata": {
    "id": "703f3c4d"
   },
   "source": [
    "#### 8. Faça um programa que consiga categorizar a idade das equipes de uma empresa. Faça um programa que peça para n pessoas a sua idade, ao final o programa devera verificar se a média de idade da equipe varia entre 0 e 25 (jovem) ,26 e 60 (sênior) e maior que 60 (idosa); e então, dizer se a equipe é jovem, sênior ou idosa, conforme a média calculada.\n"
   ]
  },
  {
   "cell_type": "code",
   "execution_count": null,
   "id": "b56a85de",
   "metadata": {
    "id": "b56a85de"
   },
   "outputs": [],
   "source": [
    "qtdp = int(input('Quantas pessoas tem a equipe: '))\n",
    "total = 0\n",
    "\n",
    "for i in range(qtdp):\n",
    "    idade = int(input('Digite a idade: '))\n",
    "    total += idade\n",
    "media_idade = total / qtdp\n",
    "# 0 a 25 jovem\n",
    "if 0 <= media_idade <= 25:\n",
    "    print(f'A equipe é jovem')\n",
    "\n",
    "# 26 a 60 Sênior    \n",
    "elif 25 < media_idade <= 60:\n",
    "    print(f'A equipe é adulta')\n",
    "    \n",
    "# Maior que 60 idosa\n",
    "elif 25 < media_idade <= 60:\n",
    "    print(f'A equipe é idosa')\n",
    "print('Media idade',media_idade)"
   ]
  },
  {
   "cell_type": "markdown",
   "id": "aad21b98",
   "metadata": {
    "id": "aad21b98"
   },
   "source": [
    "### 9. Numa eleição existem três candidatos. Faça um programa que peça o número total de eleitores. Peça para cada eleitor votar e ao final mostrar o número de votos de cada candidato."
   ]
  },
  {
   "cell_type": "code",
   "execution_count": null,
   "id": "84aa7a93",
   "metadata": {
    "id": "84aa7a93"
   },
   "outputs": [],
   "source": [
    "qtd_eleitores = int(input('Qual é a quantidade de eleitores?'))\n",
    "candidatoA = 0\n",
    "candidatoB = 0\n",
    "candidatoC = 0\n",
    "\n",
    "for i in range (qtd_eleitores):\n",
    "    voto = int(input('Digite o número do candidato'))\n",
    "   \n",
    "# Verifica voto e soma a condidato\n",
    "    if voto == 1:\n",
    "        candidatoA += 1\n",
    "    elif voto == 2:\n",
    "        candidatoB += 1\n",
    "    elif voto == 3:\n",
    "        candidatoC += 1\n",
    "print(f'A totalidade dos votos foram: \\nCanditado A:{candidatoA}\\nCandidato B:{candidatoB}\\nCandidato C:{candidatoC} ')"
   ]
  },
  {
   "cell_type": "markdown",
   "id": "6e306453",
   "metadata": {
    "id": "6e306453"
   },
   "source": [
    "#### 10. Faça um programa que calcule o valor total investido por um colecionador em sua coleção de CDs e o valor médio gasto em cada um deles. O usuário deverá informar a quantidade de CDs e o valor para em cada um."
   ]
  },
  {
   "cell_type": "code",
   "execution_count": 13,
   "id": "6b7fa4a2",
   "metadata": {
    "id": "6b7fa4a2"
   },
   "outputs": [
    {
     "name": "stdout",
     "output_type": "stream",
     "text": [
      "Informe a quantidade de CDs: 2\n",
      "Informe o preço do 1º CD: 50.65\n",
      "Informe o preço do 2º CD: 45.23\n",
      "O preço total gasto na coleção foi de R$:95.88. E o gasto médio em cada foi de R$:47.94\n"
     ]
    }
   ],
   "source": [
    "qtd_cds = int(input('Informe a quantidade de CDs: '))\n",
    "total = 0\n",
    "\n",
    "for i in range(qtd_cds):\n",
    "    valor = float(input(f'Informe o preço do {i+1}º CD: '))\n",
    "    total += valor\n",
    "\n",
    "print(f'O preço total gasto na coleção foi de R$:{total:.2f}. E o gasto médio em cada foi de R$:{total/qtd_cds:.2f}')"
   ]
  },
  {
   "cell_type": "markdown",
   "id": "f19c8d86",
   "metadata": {
    "id": "f19c8d86"
   },
   "source": [
    "#### 11. O Sr. Manoel Joaquim possui uma grande loja de artigos de R\\\\$ 1,99, com cerca de 10 caixas. Para agilizar o cálculo de quanto cada cliente deve pagar ele desenvolveu um tabela que contém o número de itens que o cliente comprou e ao lado o valor da conta. Desta forma a atendente do caixa precisa apenas contar quantos itens o cliente está levando e olhar na tabela de preços. Você foi contratado para desenvolver o programa que monta esta tabela de preços, que conterá os preços de 1 até 50 produtos, conforme o exemplo abaixo:\n",
    "<pre>\n",
    "Lojas Quase Dois - Tabela de preços\n",
    "1 - R$ 1.99\n",
    "2 - R$ 3.98\n",
    "...\n",
    "50 - R$ 99.50\n",
    "</pre>"
   ]
  },
  {
   "cell_type": "code",
   "execution_count": null,
   "id": "4fc4d54d",
   "metadata": {
    "id": "4fc4d54d"
   },
   "outputs": [],
   "source": []
  },
  {
   "cell_type": "markdown",
   "id": "6cd19c52",
   "metadata": {
    "id": "6cd19c52"
   },
   "source": [
    "#### 12. Um funcionário de uma empresa recebe aumento salarial anualmente: Sabe-se que:\n",
    "<pre>\n",
    "Esse funcionário foi contratado em 1995, com salário inicial de R$ 1.000,00;\n",
    "Em 1996 recebeu aumento de 1,5% sobre seu salário inicial;\n",
    "A partir de 1997 (inclusive), os aumentos salariais sempre correspondem ao dobro do percentual do ano anterior. Faça um programa que determine o salário desse funcionário em 2003. \n",
    "</pre>"
   ]
  },
  {
   "cell_type": "code",
   "execution_count": 27,
   "id": "98a4811b",
   "metadata": {
    "id": "98a4811b"
   },
   "outputs": [
    {
     "name": "stdout",
     "output_type": "stream",
     "text": [
      "1007.2099999999998\n"
     ]
    }
   ],
   "source": [
    "salario = 1000\n",
    "porcentagem = 0.015 \n",
    "for i in range(1997, 2004):\n",
    "    salario += (2 * porcentagem) + 1\n",
    "       \n",
    "    \n",
    "print(salario)"
   ]
  },
  {
   "cell_type": "markdown",
   "id": "227928d1",
   "metadata": {
    "id": "227928d1"
   },
   "source": [
    "#### 13. O cardápio de uma lanchonete é o seguinte:\n",
    "<pre>\n",
    "Especificação   Código  Preço\n",
    "Cachorro Quente 100     R$ 1,20\n",
    "Bauru Simples   101     R$ 1,30\n",
    "Bauru com ovo   102     R$ 1,50\n",
    "Hambúrguer      103     R$ 1,20\n",
    "Cheeseburguer   104     R$ 1,30\n",
    "Refrigerante    105     R$ 1,00\n",
    "Faça um programa que leia o código dos itens pedidos e as quantidades desejadas. Calcule e mostre o valor a ser pago por item (preço * quantidade) e o total geral do pedido. Considere que o cliente deve informar quando o pedido deve ser encerrado.\n",
    "</pre>"
   ]
  },
  {
   "cell_type": "code",
   "execution_count": null,
   "id": "8a784b86",
   "metadata": {
    "id": "8a784b86"
   },
   "outputs": [],
   "source": []
  },
  {
   "cell_type": "markdown",
   "id": "9877b8ba",
   "metadata": {
    "id": "9877b8ba"
   },
   "source": [
    "#### 14. Uma grande emissora de televisão quer fazer uma enquete entre os seus telespectadores para saber qual o melhor jogador após cada jogo. Para isto, faz-se necessário o desenvolvimento de um programa, que será utilizado pelas telefonistas, para a computação dos votos. Sua equipe foi contratada para desenvolver este programa, utilizando a linguagem de programação Python. Para computar cada voto, a telefonista digitará um número, entre 1 e 23, correspondente ao número da camisa do jogador. Um número de jogador igual zero, indica que a votação foi encerrada. Se um número inválido for digitado, o programa deve ignorá-lo, mostrando uma breve mensagem de aviso, e voltando a pedir outro número. Após o final da votação, o programa deverá exibir:\n",
    "<pre>a. O total de votos computados;\n",
    "b. Os números e respectivos votos de todos os jogadores que receberam votos;\n",
    "c. O percentual de votos de cada um destes jogadores;\n",
    "d. O número do jogador escolhido como o melhor jogador da partida, juntamente com o número de votos e o percentual de votos dados a ele.\n",
    "        Observe que os votos inválidos e o zero final não devem ser computados como votos. O resultado aparece ordenado pelo número do jogador. O programa deve fazer uso de arrays. O programa deverá executar o cálculo do percentual de cada jogador através de uma função. Esta função receberá dois parâmetros: o número de votos de um jogador e o total de votos. A função calculará o percentual e retornará o valor calculado. Abaixo segue uma tela de exemplo. O disposição das informações deve ser o mais próxima possível ao exemplo. Os dados são fictícios e podem mudar a cada execução do programa. Ao final, o programa deve ainda gravar os dados referentes ao resultado da votação em um arquivo texto no disco, obedecendo a mesma disposição apresentada na tela.</pre>\n",
    "```\n",
    "Enquete: Quem foi o melhor jogador?\n",
    "\n",
    "Número do jogador (0=fim): 9\n",
    "Número do jogador (0=fim): 10\n",
    "Número do jogador (0=fim): 9\n",
    "Número do jogador (0=fim): 10\n",
    "Número do jogador (0=fim): 11\n",
    "Número do jogador (0=fim): 10\n",
    "Número do jogador (0=fim): 50\n",
    "Informe um valor entre 1 e 23 ou 0 para sair!\n",
    "Número do jogador (0=fim): 9\n",
    "Número do jogador (0=fim): 9\n",
    "Número do jogador (0=fim): 0\n",
    "\n",
    "Resultado da votação:\n",
    "\n",
    "Foram computados 8 votos.\n",
    "\n",
    "Jogador Votos           %\n",
    "9               4               50,0%\n",
    "10              3               37,5%\n",
    "11              1               12,5%\n",
    "``` "
   ]
  },
  {
   "cell_type": "code",
   "execution_count": null,
   "id": "79b82364",
   "metadata": {
    "id": "79b82364"
   },
   "outputs": [],
   "source": []
  }
 ],
 "metadata": {
  "colab": {
   "collapsed_sections": [],
   "provenance": []
  },
  "kernelspec": {
   "display_name": "Python 3 (ipykernel)",
   "language": "python",
   "name": "python3"
  },
  "language_info": {
   "codemirror_mode": {
    "name": "ipython",
    "version": 3
   },
   "file_extension": ".py",
   "mimetype": "text/x-python",
   "name": "python",
   "nbconvert_exporter": "python",
   "pygments_lexer": "ipython3",
   "version": "3.9.13"
  }
 },
 "nbformat": 4,
 "nbformat_minor": 5
}
