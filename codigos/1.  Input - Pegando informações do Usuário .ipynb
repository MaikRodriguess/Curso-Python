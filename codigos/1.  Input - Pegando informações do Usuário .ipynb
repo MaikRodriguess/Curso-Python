{
 "cells": [
  {
   "cell_type": "code",
   "execution_count": 5,
   "id": "cdda1a63",
   "metadata": {},
   "outputs": [
    {
     "name": "stdout",
     "output_type": "stream",
     "text": [
      "Qual é seu primeiro nome?maik \n",
      "Qual é seu sobrenome?Rodrigues\n",
      "Seu nome completo é: maik Rodrigues\n"
     ]
    }
   ],
   "source": [
    "nome = input('Qual é seu primeiro nome?')\n",
    "sobrenome = input('Qual é seu sobrenome?')\n",
    "print('Seu nome completo é: '+ nome + '' + sobrenome)"
   ]
  },
  {
   "cell_type": "code",
   "execution_count": null,
   "id": "fbd077ed",
   "metadata": {},
   "outputs": [],
   "source": []
  }
 ],
 "metadata": {
  "kernelspec": {
   "display_name": "Python 3 (ipykernel)",
   "language": "python",
   "name": "python3"
  },
  "language_info": {
   "codemirror_mode": {
    "name": "ipython",
    "version": 3
   },
   "file_extension": ".py",
   "mimetype": "text/x-python",
   "name": "python",
   "nbconvert_exporter": "python",
   "pygments_lexer": "ipython3",
   "version": "3.9.12"
  }
 },
 "nbformat": 4,
 "nbformat_minor": 5
}
