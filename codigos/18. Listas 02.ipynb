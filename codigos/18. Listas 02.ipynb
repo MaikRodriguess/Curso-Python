{
 "cells": [
  {
   "cell_type": "markdown",
   "metadata": {},
   "source": [
    "# Listas em Python\n",
    "\n",
    "## Estrutura:\n",
    "\n",
    "lista = [valor, valor, valor, valor, ...]\n",
    "\n",
    "lista[i] -> é o valor de índice i da lista. <br>\n",
    "Obs: Lembre que no python o índice começa em 0, então o primeiro item de uma lista é o item lista[0]\n",
    "\n",
    "Para substituir um valor de uma lista você pode fazer:<br>\n",
    "lista[i] = novo_valor\n",
    "\n",
    "Listas de Produtos de uma Loja:"
   ]
  },
  {
   "cell_type": "code",
   "execution_count": 10,
   "metadata": {},
   "outputs": [],
   "source": [
    "produtos = ['tv', 'celular', 'mouse', 'teclado', 'tablet']"
   ]
  },
  {
   "cell_type": "markdown",
   "metadata": {},
   "source": [
    "Lista de Unidades Vendidas de cada Produto da Loja"
   ]
  },
  {
   "cell_type": "code",
   "execution_count": 11,
   "metadata": {},
   "outputs": [],
   "source": [
    "vendas = [1000, 1500, 350, 270, 900]"
   ]
  },
  {
   "cell_type": "markdown",
   "metadata": {},
   "source": [
    "### Nesse caso, as listas funcionam da seguinte forma:"
   ]
  },
  {
   "cell_type": "raw",
   "metadata": {},
   "source": [
    "produtos = ['tv', 'celular', 'mouse', 'teclado', 'tablet']\n",
    "              0 ,      1   ,    2   ,     3    ,     4   \n",
    "vendas = [  1000,    1500  ,   350  ,    270   ,    900  ]"
   ]
  },
  {
   "cell_type": "code",
   "execution_count": 25,
   "metadata": {},
   "outputs": [
    {
     "name": "stdout",
     "output_type": "stream",
     "text": [
      "O valor do produto mouse foram de: 350\n"
     ]
    }
   ],
   "source": [
    "# Primeira forma de fazer. É preciso converter o os inteiros para string para a impressão\n",
    "print('O valor do produto ' + str(produtos[2]) + ' foram de: ' + str(vendas[2]))"
   ]
  },
  {
   "cell_type": "code",
   "execution_count": 20,
   "metadata": {},
   "outputs": [
    {
     "name": "stdout",
     "output_type": "stream",
     "text": [
      "O valor do produto celular foram de : 1500\n"
     ]
    }
   ],
   "source": [
    "# Segunda forma de fazer usando .format\n",
    "print('O valor do produto {} foram de : {}'.format(produtos[1], vendas[1]))"
   ]
  },
  {
   "cell_type": "code",
   "execution_count": 38,
   "metadata": {},
   "outputs": [
    {
     "name": "stdout",
     "output_type": "stream",
     "text": [
      "O e-mail foi alterado para: lara@gmail.com\n"
     ]
    }
   ],
   "source": [
    "# Formas de alterar uma string\n",
    "texto = 'lira@gmail.com'\n",
    "texto_2 = texto.replace('i','a',1) # Substitui apenas a primeira ocorrência do caractere 'i' \n",
    "print('O e-mail foi alterado para: ' + texto_2)\n",
    "\n"
   ]
  }
 ],
 "metadata": {
  "kernelspec": {
   "display_name": "Python 3 (ipykernel)",
   "language": "python",
   "name": "python3"
  },
  "language_info": {
   "codemirror_mode": {
    "name": "ipython",
    "version": 3
   },
   "file_extension": ".py",
   "mimetype": "text/x-python",
   "name": "python",
   "nbconvert_exporter": "python",
   "pygments_lexer": "ipython3",
   "version": "3.9.12"
  }
 },
 "nbformat": 4,
 "nbformat_minor": 4
}
