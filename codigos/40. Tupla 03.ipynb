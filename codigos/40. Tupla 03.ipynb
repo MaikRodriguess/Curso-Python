{
 "cells": [
  {
   "cell_type": "markdown",
   "metadata": {},
   "source": [
    "# Aplicação de Tupla - Lista de Tuplas\n",
    "\n",
    "### Estrutura:\n",
    "\n",
    "Além de casos como o do enumerate, em que usamos uma função para transformar itens em tuplas porque isso ajuda o nosso código, temos também listas de tuplas como algo comum dentro do Python."
   ]
  },
  {
   "cell_type": "raw",
   "metadata": {},
   "source": [
    "lista = [\n",
    "    tupla1,\n",
    "    tupla2,\n",
    "    tupla3,\n",
    "    ]\n",
    "    \n",
    "ou seja\n",
    "\n",
    "lista = [\n",
    "    (valor1, valor2, valor3),\n",
    "    (valor4, valor5, valor6),\n",
    "    (valor7, valor8, valor9),\n",
    "    ]"
   ]
  },
  {
   "cell_type": "markdown",
   "metadata": {},
   "source": [
    "### Exemplo:\n",
    "\n",
    "Digamos que você está analisando as vendas do Banco de Dados de um e-commerce.\n",
    "\n",
    "Em um determinado dia, você extraiu as vendas do Banco de Dados e elas vieram nesse formato:"
   ]
  },
  {
   "cell_type": "code",
   "execution_count": 2,
   "metadata": {},
   "outputs": [],
   "source": [
    "vendas = [\n",
    "    ('20/08/2020', 'iphone x', 'azul', '128gb', 350, 4000),\n",
    "    ('20/08/2020', 'iphone x', 'prata', '128gb', 1500, 4000),\n",
    "    ('20/08/2020', 'ipad', 'prata', '256gb', 127, 6000),\n",
    "    ('20/08/2020', 'ipad', 'prata', '128gb', 981, 5000),\n",
    "    ('21/08/2020', 'iphone x', 'azul', '128gb', 397, 4000),\n",
    "    ('21/08/2020', 'iphone x', 'prata', '128gb', 1017, 4000),\n",
    "    ('21/08/2020', 'ipad', 'prata', '256gb', 50, 6000),\n",
    "    ('21/08/2020', 'ipad', 'prata', '128gb', 4000, 5000),\n",
    "]"
   ]
  },
  {
   "cell_type": "markdown",
   "metadata": {},
   "source": [
    "- Qual foi o faturamento de IPhone no dia 20/08/2020?\n",
    "- Qual foi o produto mais vendido (em unidades) no dia 21/08/2020?"
   ]
  },
  {
   "cell_type": "code",
   "execution_count": 50,
   "metadata": {},
   "outputs": [
    {
     "name": "stdout",
     "output_type": "stream",
     "text": [
      "O faturamento do iphone do dia 20/08/2020 foi de 7400000\n"
     ]
    }
   ],
   "source": [
    "faturamento = 0\n",
    "for item in vendas:\n",
    "        data, produto, cor, capacidade, unidades, valor_unitario = item\n",
    "        \n",
    "        if produto == 'iphone x' and data == '20/08/2020':\n",
    "            faturamento += unidades * valor_unitario\n",
    "print('O faturamento do iphone do dia 20/08/2020 foi de {}'.format(faturamento))\n",
    "            "
   ]
  },
  {
   "cell_type": "markdown",
   "metadata": {},
   "source": [
    "- Qual foi o produto mais vendido (em unidades) no dia 21/08/2020"
   ]
  },
  {
   "cell_type": "code",
   "execution_count": 51,
   "metadata": {},
   "outputs": [
    {
     "name": "stdout",
     "output_type": "stream",
     "text": [
      "Meu produto mais vendido em 21/08/2020 foi ipad de 4000 unidades. Cor prata e Capacidade 128gb. \n"
     ]
    }
   ],
   "source": [
    "produto_mais_vendido = ''\n",
    "qtd_produto_vendidos = 0\n",
    "cor_produto_mais_vendido = ''\n",
    "capacidade_mais_vendido = 0\n",
    "\n",
    "\n",
    "for item in vendas:\n",
    "    data, produto, cor, capacidade, unidades, valor_unitario = item # Separando itens na tupla\n",
    "    if data == '21/08/2020': \n",
    "         # Verifica se a quandidade de itens vendidos é mais que a ultima armazenada \n",
    "        if unidades > qtd_produto_vendidos:\n",
    "            produto_mais_vendido = produto # Armazena o produto mais vendido \n",
    "            qtd_produto_vendidos = unidades # Armazena a quantidade do produto mais vendido \n",
    "            cor_produto_mais_vendido = cor # Armazena a cor do produto mais vendido \n",
    "            capacidade_mais_vendido = capacidade # Armazena a capacidade do produto mais vendido \n",
    "\n",
    "print('Meu produto mais vendido em 21/08/2020 foi {} de {} unidades. Cor {} e Capacidade {}. '\n",
    "      .format(produto_mais_vendido, qtd_produto_vendidos, cor_produto_mais_vendido, capacidade_mais_vendido))            \n",
    "            \n",
    "    \n",
    "    "
   ]
  },
  {
   "cell_type": "code",
   "execution_count": null,
   "metadata": {},
   "outputs": [],
   "source": []
  }
 ],
 "metadata": {
  "kernelspec": {
   "display_name": "Python 3 (ipykernel)",
   "language": "python",
   "name": "python3"
  },
  "language_info": {
   "codemirror_mode": {
    "name": "ipython",
    "version": 3
   },
   "file_extension": ".py",
   "mimetype": "text/x-python",
   "name": "python",
   "nbconvert_exporter": "python",
   "pygments_lexer": "ipython3",
   "version": "3.9.13"
  }
 },
 "nbformat": 4,
 "nbformat_minor": 4
}
